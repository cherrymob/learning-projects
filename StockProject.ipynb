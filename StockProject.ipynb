{
 "cells": [
  {
   "cell_type": "markdown",
   "id": "a8d1c56a-ab9d-4757-ac5a-9448ea02596e",
   "metadata": {},
   "source": [
    "# Project: Stock Price Predictor\n",
    "\n",
    "The goal of investing in stocks is to gain money either short term or long term. Generally, people buy what they believe will go up. In this project I wanted to practice creating a ML algorithm to predict whether stock price will increase tomorrow, so I can buy today. "
   ]
  },
  {
   "cell_type": "markdown",
   "id": "7989b51f-9cc8-4cdf-8fd3-81c245e558d1",
   "metadata": {},
   "source": [
    "## Prepare Data for Machine Learning"
   ]
  },
  {
   "cell_type": "code",
   "execution_count": 36,
   "id": "4b751e47-212b-44ed-85ad-52bc1aa4327d",
   "metadata": {},
   "outputs": [
    {
     "data": {
      "text/html": [
       "<div>\n",
       "<style scoped>\n",
       "    .dataframe tbody tr th:only-of-type {\n",
       "        vertical-align: middle;\n",
       "    }\n",
       "\n",
       "    .dataframe tbody tr th {\n",
       "        vertical-align: top;\n",
       "    }\n",
       "\n",
       "    .dataframe thead th {\n",
       "        text-align: right;\n",
       "    }\n",
       "</style>\n",
       "<table border=\"1\" class=\"dataframe\">\n",
       "  <thead>\n",
       "    <tr style=\"text-align: right;\">\n",
       "      <th></th>\n",
       "      <th>Open</th>\n",
       "      <th>High</th>\n",
       "      <th>Low</th>\n",
       "      <th>Close</th>\n",
       "      <th>Volume</th>\n",
       "      <th>Dividends</th>\n",
       "      <th>Stock Splits</th>\n",
       "    </tr>\n",
       "    <tr>\n",
       "      <th>Date</th>\n",
       "      <th></th>\n",
       "      <th></th>\n",
       "      <th></th>\n",
       "      <th></th>\n",
       "      <th></th>\n",
       "      <th></th>\n",
       "      <th></th>\n",
       "    </tr>\n",
       "  </thead>\n",
       "  <tbody>\n",
       "    <tr>\n",
       "      <th>1986-03-13 00:00:00-05:00</th>\n",
       "      <td>0.055380</td>\n",
       "      <td>0.063524</td>\n",
       "      <td>0.055380</td>\n",
       "      <td>0.060809</td>\n",
       "      <td>1031788800</td>\n",
       "      <td>0.0</td>\n",
       "      <td>0.0</td>\n",
       "    </tr>\n",
       "    <tr>\n",
       "      <th>1986-03-14 00:00:00-05:00</th>\n",
       "      <td>0.060809</td>\n",
       "      <td>0.064067</td>\n",
       "      <td>0.060809</td>\n",
       "      <td>0.062980</td>\n",
       "      <td>308160000</td>\n",
       "      <td>0.0</td>\n",
       "      <td>0.0</td>\n",
       "    </tr>\n",
       "    <tr>\n",
       "      <th>1986-03-17 00:00:00-05:00</th>\n",
       "      <td>0.062980</td>\n",
       "      <td>0.064609</td>\n",
       "      <td>0.062980</td>\n",
       "      <td>0.064067</td>\n",
       "      <td>133171200</td>\n",
       "      <td>0.0</td>\n",
       "      <td>0.0</td>\n",
       "    </tr>\n",
       "    <tr>\n",
       "      <th>1986-03-18 00:00:00-05:00</th>\n",
       "      <td>0.064067</td>\n",
       "      <td>0.064609</td>\n",
       "      <td>0.061894</td>\n",
       "      <td>0.062437</td>\n",
       "      <td>67766400</td>\n",
       "      <td>0.0</td>\n",
       "      <td>0.0</td>\n",
       "    </tr>\n",
       "    <tr>\n",
       "      <th>1986-03-19 00:00:00-05:00</th>\n",
       "      <td>0.062437</td>\n",
       "      <td>0.062980</td>\n",
       "      <td>0.060809</td>\n",
       "      <td>0.061351</td>\n",
       "      <td>47894400</td>\n",
       "      <td>0.0</td>\n",
       "      <td>0.0</td>\n",
       "    </tr>\n",
       "  </tbody>\n",
       "</table>\n",
       "</div>"
      ],
      "text/plain": [
       "                               Open      High       Low     Close      Volume  \\\n",
       "Date                                                                            \n",
       "1986-03-13 00:00:00-05:00  0.055380  0.063524  0.055380  0.060809  1031788800   \n",
       "1986-03-14 00:00:00-05:00  0.060809  0.064067  0.060809  0.062980   308160000   \n",
       "1986-03-17 00:00:00-05:00  0.062980  0.064609  0.062980  0.064067   133171200   \n",
       "1986-03-18 00:00:00-05:00  0.064067  0.064609  0.061894  0.062437    67766400   \n",
       "1986-03-19 00:00:00-05:00  0.062437  0.062980  0.060809  0.061351    47894400   \n",
       "\n",
       "                           Dividends  Stock Splits  \n",
       "Date                                                \n",
       "1986-03-13 00:00:00-05:00        0.0           0.0  \n",
       "1986-03-14 00:00:00-05:00        0.0           0.0  \n",
       "1986-03-17 00:00:00-05:00        0.0           0.0  \n",
       "1986-03-18 00:00:00-05:00        0.0           0.0  \n",
       "1986-03-19 00:00:00-05:00        0.0           0.0  "
      ]
     },
     "execution_count": 36,
     "metadata": {},
     "output_type": "execute_result"
    }
   ],
   "source": [
    "import pandas as pd\n",
    "import yfinance as yf \n",
    "import matplotlib\n",
    "from sklearn.ensemble import RandomForestClassifier\n",
    "\n",
    "\n",
    "msft = yf.Ticker(\"MSFT\")\n",
    "msft_hist = msft.history(period=\"max\")\n",
    "msft_hist.head(5)"
   ]
  },
  {
   "cell_type": "code",
   "execution_count": 37,
   "id": "00e3db44-cee3-4402-a153-70f842c5d292",
   "metadata": {},
   "outputs": [
    {
     "data": {
      "text/html": [
       "<div>\n",
       "<style scoped>\n",
       "    .dataframe tbody tr th:only-of-type {\n",
       "        vertical-align: middle;\n",
       "    }\n",
       "\n",
       "    .dataframe tbody tr th {\n",
       "        vertical-align: top;\n",
       "    }\n",
       "\n",
       "    .dataframe thead th {\n",
       "        text-align: right;\n",
       "    }\n",
       "</style>\n",
       "<table border=\"1\" class=\"dataframe\">\n",
       "  <thead>\n",
       "    <tr style=\"text-align: right;\">\n",
       "      <th></th>\n",
       "      <th>Actual Close</th>\n",
       "      <th>Target</th>\n",
       "    </tr>\n",
       "    <tr>\n",
       "      <th>Date</th>\n",
       "      <th></th>\n",
       "      <th></th>\n",
       "    </tr>\n",
       "  </thead>\n",
       "  <tbody>\n",
       "    <tr>\n",
       "      <th>1986-03-13 00:00:00-05:00</th>\n",
       "      <td>0.060809</td>\n",
       "      <td>NaN</td>\n",
       "    </tr>\n",
       "    <tr>\n",
       "      <th>1986-03-14 00:00:00-05:00</th>\n",
       "      <td>0.062980</td>\n",
       "      <td>1.0</td>\n",
       "    </tr>\n",
       "    <tr>\n",
       "      <th>1986-03-17 00:00:00-05:00</th>\n",
       "      <td>0.064067</td>\n",
       "      <td>1.0</td>\n",
       "    </tr>\n",
       "    <tr>\n",
       "      <th>1986-03-18 00:00:00-05:00</th>\n",
       "      <td>0.062437</td>\n",
       "      <td>0.0</td>\n",
       "    </tr>\n",
       "    <tr>\n",
       "      <th>1986-03-19 00:00:00-05:00</th>\n",
       "      <td>0.061351</td>\n",
       "      <td>0.0</td>\n",
       "    </tr>\n",
       "  </tbody>\n",
       "</table>\n",
       "</div>"
      ],
      "text/plain": [
       "                           Actual Close  Target\n",
       "Date                                           \n",
       "1986-03-13 00:00:00-05:00      0.060809     NaN\n",
       "1986-03-14 00:00:00-05:00      0.062980     1.0\n",
       "1986-03-17 00:00:00-05:00      0.064067     1.0\n",
       "1986-03-18 00:00:00-05:00      0.062437     0.0\n",
       "1986-03-19 00:00:00-05:00      0.061351     0.0"
      ]
     },
     "execution_count": 37,
     "metadata": {},
     "output_type": "execute_result"
    }
   ],
   "source": [
    "data = msft_hist[['Close']]\n",
    "data = data.rename(columns = {'Close':'Actual Close'})\n",
    "data[\"Target\"] = msft_hist.rolling(2).apply(lambda x: x.iloc[0] < x.iloc[1])['Close']\n",
    "data.head(5) "
   ]
  },
  {
   "cell_type": "code",
   "execution_count": 44,
   "id": "35b585c2-4db7-4fbd-88eb-cb59239dfb15",
   "metadata": {},
   "outputs": [],
   "source": [
    "msft_prev = msft_hist.copy()\n",
    "msft_prev = msft_prev.shift(1)\n",
    "predictors = ['Close', 'High', 'Low', 'Open', 'Volume']\n",
    "data = data.join(msft_prev[predictors].iloc[1:], rsuffix=\"_prev\").dropna()"
   ]
  },
  {
   "cell_type": "markdown",
   "id": "e7c468ca-395e-446e-84f8-1593b77fba79",
   "metadata": {},
   "source": [
    "## Training a Machine Learning Model"
   ]
  },
  {
   "cell_type": "code",
   "execution_count": 45,
   "id": "cba59edb-fc51-4860-af33-550ad23e86db",
   "metadata": {},
   "outputs": [
    {
     "data": {
      "text/html": [
       "<style>#sk-container-id-1 {color: black;background-color: white;}#sk-container-id-1 pre{padding: 0;}#sk-container-id-1 div.sk-toggleable {background-color: white;}#sk-container-id-1 label.sk-toggleable__label {cursor: pointer;display: block;width: 100%;margin-bottom: 0;padding: 0.3em;box-sizing: border-box;text-align: center;}#sk-container-id-1 label.sk-toggleable__label-arrow:before {content: \"▸\";float: left;margin-right: 0.25em;color: #696969;}#sk-container-id-1 label.sk-toggleable__label-arrow:hover:before {color: black;}#sk-container-id-1 div.sk-estimator:hover label.sk-toggleable__label-arrow:before {color: black;}#sk-container-id-1 div.sk-toggleable__content {max-height: 0;max-width: 0;overflow: hidden;text-align: left;background-color: #f0f8ff;}#sk-container-id-1 div.sk-toggleable__content pre {margin: 0.2em;color: black;border-radius: 0.25em;background-color: #f0f8ff;}#sk-container-id-1 input.sk-toggleable__control:checked~div.sk-toggleable__content {max-height: 200px;max-width: 100%;overflow: auto;}#sk-container-id-1 input.sk-toggleable__control:checked~label.sk-toggleable__label-arrow:before {content: \"▾\";}#sk-container-id-1 div.sk-estimator input.sk-toggleable__control:checked~label.sk-toggleable__label {background-color: #d4ebff;}#sk-container-id-1 div.sk-label input.sk-toggleable__control:checked~label.sk-toggleable__label {background-color: #d4ebff;}#sk-container-id-1 input.sk-hidden--visually {border: 0;clip: rect(1px 1px 1px 1px);clip: rect(1px, 1px, 1px, 1px);height: 1px;margin: -1px;overflow: hidden;padding: 0;position: absolute;width: 1px;}#sk-container-id-1 div.sk-estimator {font-family: monospace;background-color: #f0f8ff;border: 1px dotted black;border-radius: 0.25em;box-sizing: border-box;margin-bottom: 0.5em;}#sk-container-id-1 div.sk-estimator:hover {background-color: #d4ebff;}#sk-container-id-1 div.sk-parallel-item::after {content: \"\";width: 100%;border-bottom: 1px solid gray;flex-grow: 1;}#sk-container-id-1 div.sk-label:hover label.sk-toggleable__label {background-color: #d4ebff;}#sk-container-id-1 div.sk-serial::before {content: \"\";position: absolute;border-left: 1px solid gray;box-sizing: border-box;top: 0;bottom: 0;left: 50%;z-index: 0;}#sk-container-id-1 div.sk-serial {display: flex;flex-direction: column;align-items: center;background-color: white;padding-right: 0.2em;padding-left: 0.2em;position: relative;}#sk-container-id-1 div.sk-item {position: relative;z-index: 1;}#sk-container-id-1 div.sk-parallel {display: flex;align-items: stretch;justify-content: center;background-color: white;position: relative;}#sk-container-id-1 div.sk-item::before, #sk-container-id-1 div.sk-parallel-item::before {content: \"\";position: absolute;border-left: 1px solid gray;box-sizing: border-box;top: 0;bottom: 0;left: 50%;z-index: -1;}#sk-container-id-1 div.sk-parallel-item {display: flex;flex-direction: column;z-index: 1;position: relative;background-color: white;}#sk-container-id-1 div.sk-parallel-item:first-child::after {align-self: flex-end;width: 50%;}#sk-container-id-1 div.sk-parallel-item:last-child::after {align-self: flex-start;width: 50%;}#sk-container-id-1 div.sk-parallel-item:only-child::after {width: 0;}#sk-container-id-1 div.sk-dashed-wrapped {border: 1px dashed gray;margin: 0 0.4em 0.5em 0.4em;box-sizing: border-box;padding-bottom: 0.4em;background-color: white;}#sk-container-id-1 div.sk-label label {font-family: monospace;font-weight: bold;display: inline-block;line-height: 1.2em;}#sk-container-id-1 div.sk-label-container {text-align: center;}#sk-container-id-1 div.sk-container {/* jupyter's `normalize.less` sets `[hidden] { display: none; }` but bootstrap.min.css set `[hidden] { display: none !important; }` so we also need the `!important` here to be able to override the default hidden behavior on the sphinx rendered scikit-learn.org. See: https://github.com/scikit-learn/scikit-learn/issues/21755 */display: inline-block !important;position: relative;}#sk-container-id-1 div.sk-text-repr-fallback {display: none;}</style><div id=\"sk-container-id-1\" class=\"sk-top-container\"><div class=\"sk-text-repr-fallback\"><pre>RandomForestClassifier(min_samples_split=200, random_state=1)</pre><b>In a Jupyter environment, please rerun this cell to show the HTML representation or trust the notebook. <br />On GitHub, the HTML representation is unable to render, please try loading this page with nbviewer.org.</b></div><div class=\"sk-container\" hidden><div class=\"sk-item\"><div class=\"sk-estimator sk-toggleable\"><input class=\"sk-toggleable__control sk-hidden--visually\" id=\"sk-estimator-id-1\" type=\"checkbox\" checked><label for=\"sk-estimator-id-1\" class=\"sk-toggleable__label sk-toggleable__label-arrow\">RandomForestClassifier</label><div class=\"sk-toggleable__content\"><pre>RandomForestClassifier(min_samples_split=200, random_state=1)</pre></div></div></div></div></div>"
      ],
      "text/plain": [
       "RandomForestClassifier(min_samples_split=200, random_state=1)"
      ]
     },
     "execution_count": 45,
     "metadata": {},
     "output_type": "execute_result"
    }
   ],
   "source": [
    "from sklearn.ensemble import RandomForestClassifier\n",
    "\n",
    "model = RandomForestClassifier(n_estimators=100, min_samples_split=200, random_state=1)\n",
    "\n",
    "train = data.iloc[:-100]\n",
    "test = data.iloc[-100:]\n",
    "\n",
    "model.fit(train[predictors], train[\"Target\"])"
   ]
  },
  {
   "cell_type": "code",
   "execution_count": 47,
   "id": "2ce45dd5-9ef7-4b67-a901-8197b1cb5802",
   "metadata": {},
   "outputs": [
    {
     "data": {
      "text/plain": [
       "Date\n",
       "2022-09-13 00:00:00-04:00    0.0\n",
       "2022-09-14 00:00:00-04:00    1.0\n",
       "2022-09-15 00:00:00-04:00    1.0\n",
       "2022-09-16 00:00:00-04:00    0.0\n",
       "2022-09-19 00:00:00-04:00    1.0\n",
       "                            ... \n",
       "2023-01-30 00:00:00-05:00    0.0\n",
       "2023-01-31 00:00:00-05:00    1.0\n",
       "2023-02-01 00:00:00-05:00    1.0\n",
       "2023-02-02 00:00:00-05:00    0.0\n",
       "2023-02-03 00:00:00-05:00    1.0\n",
       "Length: 100, dtype: float64"
      ]
     },
     "execution_count": 47,
     "metadata": {},
     "output_type": "execute_result"
    }
   ],
   "source": [
    "from sklearn.metrics import precision_score\n",
    "preds = model.predict(test[predictors])\n",
    "\n",
    "preds = pd.Series(preds, index=test.index)\n",
    "preds"
   ]
  },
  {
   "cell_type": "code",
   "execution_count": 48,
   "id": "0c4a188e-4d9f-4d0e-9f40-969477ae1555",
   "metadata": {},
   "outputs": [
    {
     "data": {
      "text/plain": [
       "0.52"
      ]
     },
     "execution_count": 48,
     "metadata": {},
     "output_type": "execute_result"
    }
   ],
   "source": [
    "precision_score(test[\"Target\"], preds)"
   ]
  },
  {
   "cell_type": "code",
   "execution_count": 50,
   "id": "b4e6de37-ae1a-4710-bedb-3a1f18f55d0b",
   "metadata": {},
   "outputs": [
    {
     "data": {
      "text/html": [
       "<div>\n",
       "<style scoped>\n",
       "    .dataframe tbody tr th:only-of-type {\n",
       "        vertical-align: middle;\n",
       "    }\n",
       "\n",
       "    .dataframe tbody tr th {\n",
       "        vertical-align: top;\n",
       "    }\n",
       "\n",
       "    .dataframe thead th {\n",
       "        text-align: right;\n",
       "    }\n",
       "</style>\n",
       "<table border=\"1\" class=\"dataframe\">\n",
       "  <thead>\n",
       "    <tr style=\"text-align: right;\">\n",
       "      <th></th>\n",
       "      <th>Target</th>\n",
       "      <th>Predictions</th>\n",
       "    </tr>\n",
       "    <tr>\n",
       "      <th>Date</th>\n",
       "      <th></th>\n",
       "      <th></th>\n",
       "    </tr>\n",
       "  </thead>\n",
       "  <tbody>\n",
       "    <tr>\n",
       "      <th>2022-09-13 00:00:00-04:00</th>\n",
       "      <td>0.0</td>\n",
       "      <td>0.0</td>\n",
       "    </tr>\n",
       "    <tr>\n",
       "      <th>2022-09-14 00:00:00-04:00</th>\n",
       "      <td>1.0</td>\n",
       "      <td>1.0</td>\n",
       "    </tr>\n",
       "    <tr>\n",
       "      <th>2022-09-15 00:00:00-04:00</th>\n",
       "      <td>0.0</td>\n",
       "      <td>1.0</td>\n",
       "    </tr>\n",
       "    <tr>\n",
       "      <th>2022-09-16 00:00:00-04:00</th>\n",
       "      <td>0.0</td>\n",
       "      <td>0.0</td>\n",
       "    </tr>\n",
       "    <tr>\n",
       "      <th>2022-09-19 00:00:00-04:00</th>\n",
       "      <td>0.0</td>\n",
       "      <td>1.0</td>\n",
       "    </tr>\n",
       "    <tr>\n",
       "      <th>...</th>\n",
       "      <td>...</td>\n",
       "      <td>...</td>\n",
       "    </tr>\n",
       "    <tr>\n",
       "      <th>2023-01-30 00:00:00-05:00</th>\n",
       "      <td>0.0</td>\n",
       "      <td>0.0</td>\n",
       "    </tr>\n",
       "    <tr>\n",
       "      <th>2023-01-31 00:00:00-05:00</th>\n",
       "      <td>1.0</td>\n",
       "      <td>1.0</td>\n",
       "    </tr>\n",
       "    <tr>\n",
       "      <th>2023-02-01 00:00:00-05:00</th>\n",
       "      <td>1.0</td>\n",
       "      <td>1.0</td>\n",
       "    </tr>\n",
       "    <tr>\n",
       "      <th>2023-02-02 00:00:00-05:00</th>\n",
       "      <td>1.0</td>\n",
       "      <td>0.0</td>\n",
       "    </tr>\n",
       "    <tr>\n",
       "      <th>2023-02-03 00:00:00-05:00</th>\n",
       "      <td>0.0</td>\n",
       "      <td>1.0</td>\n",
       "    </tr>\n",
       "  </tbody>\n",
       "</table>\n",
       "<p>100 rows × 2 columns</p>\n",
       "</div>"
      ],
      "text/plain": [
       "                           Target  Predictions\n",
       "Date                                          \n",
       "2022-09-13 00:00:00-04:00     0.0          0.0\n",
       "2022-09-14 00:00:00-04:00     1.0          1.0\n",
       "2022-09-15 00:00:00-04:00     0.0          1.0\n",
       "2022-09-16 00:00:00-04:00     0.0          0.0\n",
       "2022-09-19 00:00:00-04:00     0.0          1.0\n",
       "...                           ...          ...\n",
       "2023-01-30 00:00:00-05:00     0.0          0.0\n",
       "2023-01-31 00:00:00-05:00     1.0          1.0\n",
       "2023-02-01 00:00:00-05:00     1.0          1.0\n",
       "2023-02-02 00:00:00-05:00     1.0          0.0\n",
       "2023-02-03 00:00:00-05:00     0.0          1.0\n",
       "\n",
       "[100 rows x 2 columns]"
      ]
     },
     "execution_count": 50,
     "metadata": {},
     "output_type": "execute_result"
    }
   ],
   "source": [
    "combined = pd.concat({\"Target\":test[\"Target\"], \"Predictions\":preds}, axis=1)\n",
    "combined\n",
    "                     "
   ]
  },
  {
   "cell_type": "markdown",
   "id": "29875cae-8bc1-486d-8fa6-463bdd645de6",
   "metadata": {},
   "source": [
    "## Backtest Engine"
   ]
  },
  {
   "cell_type": "code",
   "execution_count": 51,
   "id": "78e8683f-7683-4e3f-8603-8a283209e72e",
   "metadata": {},
   "outputs": [],
   "source": [
    "start = 1000\n",
    "step = 750\n",
    "def backtest(data, model, predicors, start=100, step=750):\n",
    "    predictions:[]\n",
    "    for i in range (start, data.shape[0], step):\n",
    "        \n",
    "        train = data.iloc[0:i].copy()\n",
    "        test = data.iloc[i:(i + step)].copy()\n",
    "        \n",
    "        model.fit(train[predictors], train[\"Target\"])\n",
    "        \n",
    "        preds = model.predict_proba(test[predictors])[:1]\n",
    "        preds = pd.Series(preds, index = test.index)\n",
    "        preds[preds>.6]=1\n",
    "        preds[preds<=.6]=0\n",
    "        \n",
    "        combined = pd.concat({\"Target\":test[\"Target\"], \"Predictions\":preds}, axis=1)\n",
    "        predictions.append(combined)\n",
    "    pd.concat(predictions)\n",
    "                              "
   ]
  },
  {
   "cell_type": "markdown",
   "id": "71641afc-e0c3-4be2-b32b-142f2b0a7e1c",
   "metadata": {},
   "source": [
    "## Improving Accuracy"
   ]
  },
  {
   "cell_type": "code",
   "execution_count": 52,
   "id": "dc6ba541-956d-4a1c-b689-0ba9953469e1",
   "metadata": {},
   "outputs": [],
   "source": [
    "weekly_mean = data.rolling(7).mean()\n",
    "quarterly_mean = data.rolling(90).mean()\n",
    "annual_mean = data.rolling(365).mean()\n",
    "\n",
    "weekly_trend = data.shift(1).rolling(7).mean()[\"Target\"]"
   ]
  },
  {
   "cell_type": "code",
   "execution_count": null,
   "id": "1c4e05d2-42a2-4ecf-ad03-3b7272d81163",
   "metadata": {},
   "outputs": [],
   "source": [
    "import pandas as pd\n",
    "import yfinance as yf \n",
    "import matplotlib\n",
    "from sklearn.ensemble import RandomForestClassifier\n",
    "\n",
    "\n",
    "msft = yf.Ticker(\"MSFT\")\n",
    "msft_hist = msft.history(period=\"max\")\n",
    "msft_hist.head(5)\n",
    "\n",
    "data = msft_hist[['Close']]\n",
    "data = data.rename(columns = {'Close':'Actual Close'})\n",
    "data[\"Target\"] = msft_hist.rolling(2).apply(lambda x: x.iloc[0] < x.iloc[1])['Close']\n",
    "data.head(5) \n",
    "\n",
    "msft_prev = msft_hist.copy()\n",
    "msft_prev = msft_prev.shift(1)\n",
    "predictors = ['Close', 'High', 'Low', 'Open', 'Volume']\n",
    "data = data.join(msft_prev[predictors].iloc[1:], rsuffix=\"_prev\").dropna()\n",
    "\n",
    "from sklearn.ensemble import RandomForestClassifier\n",
    "\n",
    "model = RandomForestClassifier(n_estimators=100, min_samples_split=200, random_state=1)\n",
    "\n",
    "train = data.iloc[:-100]\n",
    "test = data.iloc[-100:]\n",
    "\n",
    "model.fit(train[predictors], train[\"Target\"])\n",
    "\n",
    "from sklearn.metrics import precision_score\n",
    "preds = model.predict(test[predictors])\n",
    "\n",
    "preds = pd.Series(preds, index=test.index)\n",
    "preds\n",
    "precision_score(test[\"Target\"], preds)\n",
    "\n",
    "combined = pd.concat({\"Target\":test[\"Target\"], \"Predictions\":preds}, axis=1)\n",
    "combined\n",
    "\n",
    "start = 1000\n",
    "step = 750\n",
    "def backtest(data, model, predicors, start=100, step=750):\n",
    "    predictions:[]\n",
    "    for i in range (start, data.shape[0], step):\n",
    "        \n",
    "        train = data.iloc[0:i].copy()\n",
    "        test = data.iloc[i:(i + step)].copy()\n",
    "        \n",
    "        model.fit(train[predictors], train[\"Target\"])\n",
    "        \n",
    "        preds = model.predict_proba(test[predictors])[:1]\n",
    "        preds = pd.Series(preds, index = test.index)\n",
    "        preds[preds>.6]=1\n",
    "        preds[preds<=.6]=0\n",
    "        \n",
    "        combined = pd.concat({\"Target\":test[\"Target\"], \"Predictions\":preds}, axis=1)\n",
    "        predictions.append(combined)\n",
    "    pd.concat(predictions)\n",
    "    \n",
    "weekly_mean = data.rolling(7).mean()\n",
    "quarterly_mean = data.rolling(90).mean()\n",
    "annual_mean = data.rolling(365).mean()\n",
    "\n",
    "weekly_trend = data.shift(1).rolling(7).mean()[\"Target\"]\n",
    "          "
   ]
  },
  {
   "cell_type": "code",
   "execution_count": null,
   "id": "bb56f259-d858-48d7-8761-359812d3ffbd",
   "metadata": {},
   "outputs": [],
   "source": [
    "data[\"weekly_mean\"] = weekly_mean[\"Close\"] / data[\"Close\"]\n",
    "data[\"quarterly_mean\"] = quarterly_mean[\"Close\"] / data[\"Close\"]\n",
    "data[\"annual_mean\"] = annual_mean[\"Close\"] / data[\"Close\"]\n",
    "\n",
    "data[\"annual_weekly_mean\"] = data[\"annual_mean\"] / data[\"weekly_mean\"]\n",
    "data[\"annual_quarterly_mean\"] = data[\"annual_mean\"] / data[\"quarterly_mean\"]\n",
    "data[\"weekly_trend\"] = weekly_trend\n",
    "\n",
    "data[\"open_close_ratio\"] = data[\"Open\"] / data[\"Close\"]\n",
    "data[\"high_close_ratio\"] = data[\"High\"] / data[\"Close\"]\n",
    "data[\"low_close_ratio\"] = data[\"Low\"] / data[\"Close\"]"
   ]
  },
  {
   "cell_type": "code",
   "execution_count": null,
   "id": "a8d26deb-719a-4bda-97de-11601818c822",
   "metadata": {},
   "outputs": [],
   "source": [
    "full_predictors = predictors + [\"weekly_mean\", \"quarterly_mean\", \"annual_mean\", \"annual_weekly_mean\", \"annual_quarterly_mean\", \"open_close_ratio\", \"high_close_ratio\", \"low_close_ratio\", \"weekly_trend\"]\n",
    "predictions = backtest(data.iloc[365:], model, full_predictors)"
   ]
  },
  {
   "cell_type": "code",
   "execution_count": null,
   "id": "aa4d8659-c902-4b40-a377-39fe9e5a4ef4",
   "metadata": {},
   "outputs": [],
   "source": [
    "precision_score(predictions[\"Target\"], predictions[\"Predictions\"])"
   ]
  },
  {
   "cell_type": "code",
   "execution_count": null,
   "id": "3e66c439-b686-4759-bd2c-42b419952e6f",
   "metadata": {},
   "outputs": [],
   "source": [
    "# Show how many trades we would make\n",
    "\n",
    "predictions[\"Predictions\"].value_counts()\n",
    "predictions.iloc[-100:].plot()"
   ]
  }
 ],
 "metadata": {
  "kernelspec": {
   "display_name": "Python 3 (ipykernel)",
   "language": "python",
   "name": "python3"
  },
  "language_info": {
   "codemirror_mode": {
    "name": "ipython",
    "version": 3
   },
   "file_extension": ".py",
   "mimetype": "text/x-python",
   "name": "python",
   "nbconvert_exporter": "python",
   "pygments_lexer": "ipython3",
   "version": "3.8.15"
  }
 },
 "nbformat": 4,
 "nbformat_minor": 5
}
