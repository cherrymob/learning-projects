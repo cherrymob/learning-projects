{
 "cells": [
  {
   "cell_type": "markdown",
   "id": "f14c738c-61e5-4ef8-b8a9-991c2caee5f1",
   "metadata": {},
   "source": [
    "# Data Analysis Project: Wine\n",
    "I tried to write a simple program that clusters red wine samples based on their chemical properties and sensory scores, and makes wine recommendations to a user based on their preferred flavor profile and quality. The wine data is loaded into a Pandas DataFrame and the KMeans algorithm from the scikit-learn library is used to determine the cluster assignments for each wine. A function is defined to take a user's preferred flavor profile and quality, and returns a recommendation of wines from the cluster that best matches their preferences. The distribution of quality scores for the recommended wines is also plotted using matplotlib.\n",
    "\n",
    "The purpose of this project was to gain more exposure to the basics of clustering and the KMeans algorithm, as well as practice data visualization and data anaysis"
   ]
  },
  {
   "cell_type": "code",
   "execution_count": 32,
   "id": "465e8e6c-e120-4753-89f2-1f1c3028afdf",
   "metadata": {},
   "outputs": [],
   "source": [
    "import pandas as pd\n",
    "import matplotlib.pyplot as plt\n",
    "from sklearn.cluster import KMeans\n",
    "\n",
    "# Load the wine quality data into a pandas DataFrame\n",
    "data = pd.read_csv(\"winequality-red.csv\")"
   ]
  },
  {
   "cell_type": "markdown",
   "id": "82128647-e337-4ff3-9bd7-1036409e1b66",
   "metadata": {},
   "source": [
    "## Clustering using KMeans\n",
    "This code (below) uses the `KMeans` class to cluster the wines into 5 different groups based on their chemical properties and sensory scores. The `KMeans` class is initialized with `n_clusters=5`, meaning that 5 clusters will be created. The `fit` method is then called on the DataFrame without the `quality` column, which trains the KMeans algorithm on the data. Finally, the `predict` method is used to predict the cluster assignments for each wine, and the cluster assignments are added as a new column in the DataFrame."
   ]
  },
  {
   "cell_type": "code",
   "execution_count": 28,
   "id": "9ceca4a9-5383-4d02-9bc2-7f0f6fbdfd99",
   "metadata": {},
   "outputs": [
    {
     "name": "stderr",
     "output_type": "stream",
     "text": [
      "/Users/jess/miniconda3/lib/python3.8/site-packages/sklearn/cluster/_kmeans.py:870: FutureWarning: The default value of `n_init` will change from 10 to 'auto' in 1.4. Set the value of `n_init` explicitly to suppress the warning\n",
      "  warnings.warn(\n"
     ]
    }
   ],
   "source": [
    "# Use KMeans to cluster the wines into different groups based on their chemical properties and sensory scores\n",
    "kmeans = KMeans(n_clusters=5)\n",
    "kmeans.fit(data.drop(\"quality\", axis=1))\n",
    "data[\"cluster\"] = kmeans.predict(data.drop(\"quality\", axis=1))\n"
   ]
  },
  {
   "cell_type": "markdown",
   "id": "4ed10469-121f-4a7c-8855-356a73a611f2",
   "metadata": {},
   "source": [
    "## recommend_wine function\n",
    "This function takes a user's preferred flavor profile and wine quality as inputs, and returns a recommendation of the top wines in the cluster that is most similar to the user's preferred flavor profile and quality. The `kmeans.predict` method is used to predict the cluster that the user's preferred flavor profile and quality belongs to. The `recommended_wines` DataFrame is created by filtering the original DataFrame to only include wines that belong to the preferred cluster, and then sorting the wines by their `quality` score in descending order."
   ]
  },
  {
   "cell_type": "code",
   "execution_count": 29,
   "id": "5a30a91b-7704-4718-812d-f554364b2f60",
   "metadata": {},
   "outputs": [
    {
     "name": "stderr",
     "output_type": "stream",
     "text": [
      "/Users/jess/miniconda3/lib/python3.8/site-packages/sklearn/base.py:420: UserWarning: X does not have valid feature names, but KMeans was fitted with feature names\n",
      "  warnings.warn(\n"
     ]
    }
   ],
   "source": [
    "# Define a function that takes a user's preferred flavor profile and wine quality and returns a recommendation\n",
    "def recommend_wine(flavor_profile, quality, data):\n",
    "    num_features = data.shape[1] - 1 # subtract 1 to exclude the cluster column\n",
    "    input_data = [flavor_profile, 0, 0, 0, 0, 0, 0, 0, 0, 0, 0, 0, quality]\n",
    "    preferred_cluster = kmeans.predict([input_data[:12]])[0]\n",
    "    recommended_wines = data[data[\"cluster\"] == preferred_cluster].sort_values(\"quality\", ascending=False)\n",
    "    return recommended_wines\n",
    "\n",
    "# Example usage\n",
    "flavor_profile = 7\n",
    "quality = 7\n",
    "recommended_wines = recommend_wine(flavor_profile, quality, data)"
   ]
  },
  {
   "cell_type": "markdown",
   "id": "778927fd-68c9-402d-9e1f-c948177ff71b",
   "metadata": {},
   "source": [
    "## Data visualization\n",
    "This plots a histogram of the distribution of quality scores for the recommended wines. The histogram is created using the plt.hist function from the matplotlib library.\n",
    "\n",
    "The input to the plt.hist function is the \"quality\" column of the recommended_wines DataFrame, which contains the quality scores for the recommended wines. The bins parameter is set to range(3, 11), which defines the range of possible quality scores and the number of bins to use in the histogram. The edgecolor parameter is set to \"black\", which sets the color of the edges of the bars in the histogram. The align parameter is set to \"left\", which aligns the histogram bars to the left.\n",
    "\n",
    "The plt.xlabel, plt.ylabel, and plt.title functions are used to label the x-axis, y-axis, and title of the histogram, respectively. The plt.xticks function is used to set the x-ticks to the range of possible quality scores. Finally, the plt.show function is used to display the histogram.\n",
    "\n",
    "The histogram provides a visual representation of the distribution of quality scores for the recommended wines, which can help a user to get a sense of the range and frequency of quality scores for the recommended wines."
   ]
  },
  {
   "cell_type": "code",
   "execution_count": 30,
   "id": "30108788-7696-4a49-8820-7736f1d62c9d",
   "metadata": {},
   "outputs": [
    {
     "data": {
      "image/png": "[encoded data removed]",
      "text/plain": [
       "<Figure size 640x480 with 1 Axes>"
      ]
     },
     "metadata": {},
     "output_type": "display_data"
    }
   ],
   "source": [
    "# Plot the distribution of quality scores for the recommended wines\n",
    "plt.hist(recommended_wines[\"quality\"], bins=range(3, 11), edgecolor=\"black\", align=\"left\")\n",
    "plt.xlabel(\"Quality Score\")\n",
    "plt.ylabel(\"Count\")\n",
    "plt.title(\"Distribution of Quality Scores for Recommended Wines\")\n",
    "plt.xticks(range(3, 11))\n",
    "plt.show()\n"
   ]
  },
  {
   "cell_type": "markdown",
   "id": "a0d3fa6f-aff2-4cf0-9fe0-0db7725f5375",
   "metadata": {},
   "source": [
    "## See the details of recommended wines\n",
    "The detailed information about each recommended wine is contained in the recommended_wines DataFrame, which is obtained by calling the recommend_wine function with the desired flavor profile and quality. The detailed information about each recommended wine is represented by a subset of columns from the recommended_wines DataFrame. In particular, the following columns are selected:\n",
    "\n",
    "- \"fixed acidity\"\n",
    "- \"volatile acidity\"\n",
    "- \"citric acid\"\n",
    "- \"residual sugar\"\n",
    "- \"chlorides\"\n",
    "- \"free sulfur dioxide\"\n",
    "- \"total sulfur dioxide\"\n",
    "- \"density\"\n",
    "- \"pH\"\n",
    "- \"sulphates\"\n",
    "- \"alcohol\"\n",
    "- \"quality\"\n",
    "\n",
    "These columns represent various chemical and sensory properties of the recommended wines, such as the levels of acidity, sugar, and alcohol, and the overall quality score. By printing this information, the program provides a detailed look at the recommended wines and their properties, which can help a user to make a informed decision about which wine to choose."
   ]
  },
  {
   "cell_type": "code",
   "execution_count": 31,
   "id": "df4f8952-53f1-44b4-aa4a-9f5d6837177d",
   "metadata": {},
   "outputs": [
    {
     "name": "stdout",
     "output_type": "stream",
     "text": [
      "Recommended wines:\n",
      "      fixed acidity  volatile acidity  citric acid  residual sugar  chlorides  \\\n",
      "1120            7.9             0.540         0.34            2.50      0.076   \n",
      "278            10.3             0.320         0.45            6.40      0.073   \n",
      "498            10.7             0.350         0.53            2.60      0.070   \n",
      "1549            7.4             0.360         0.30            1.80      0.074   \n",
      "495            10.7             0.350         0.53            2.60      0.070   \n",
      "...             ...               ...          ...             ...        ...   \n",
      "1505            6.7             0.760         0.02            1.80      0.078   \n",
      "690             7.4             1.185         0.00            4.25      0.097   \n",
      "1478            7.1             0.875         0.05            5.70      0.082   \n",
      "517            10.4             0.610         0.49            2.10      0.200   \n",
      "899             8.3             1.020         0.02            3.40      0.084   \n",
      "\n",
      "      free sulfur dioxide  total sulfur dioxide  density    pH  sulphates  \\\n",
      "1120                  8.0                  17.0  0.99235  3.20       0.72   \n",
      "278                   5.0                  13.0  0.99760  3.23       0.82   \n",
      "498                   5.0                  16.0  0.99720  3.15       0.65   \n",
      "1549                 17.0                  24.0  0.99419  3.24       0.70   \n",
      "495                   5.0                  16.0  0.99720  3.15       0.65   \n",
      "...                   ...                   ...      ...   ...        ...   \n",
      "1505                  6.0                  12.0  0.99600  3.55       0.63   \n",
      "690                   5.0                  14.0  0.99660  3.63       0.54   \n",
      "1478                  3.0                  14.0  0.99808  3.40       0.52   \n",
      "517                   5.0                  16.0  0.99940  3.16       0.63   \n",
      "899                   6.0                  11.0  0.99892  3.48       0.49   \n",
      "\n",
      "      alcohol  quality  \n",
      "1120    13.10        8  \n",
      "278     12.60        8  \n",
      "498     11.00        8  \n",
      "1549    11.40        8  \n",
      "495     11.00        8  \n",
      "...       ...      ...  \n",
      "1505     9.95        3  \n",
      "690     10.70        3  \n",
      "1478    10.20        3  \n",
      "517      8.40        3  \n",
      "899     11.00        3  \n",
      "\n",
      "[598 rows x 12 columns]\n"
     ]
    }
   ],
   "source": [
    "# Print the detailed information about each recommended wine\n",
    "print(\"Recommended wines:\")\n",
    "print(recommended_wines[[\"fixed acidity\", \"volatile acidity\", \"citric acid\", \"residual sugar\", \"chlorides\", \"free sulfur dioxide\", \"total sulfur dioxide\", \"density\", \"pH\", \"sulphates\", \"alcohol\", \"quality\"]])\n",
    "\n",
    "plt.show()"
   ]
  },
  {
   "cell_type": "code",
   "execution_count": null,
   "id": "2357a91f-c812-43af-8bfd-a5b2d029966d",
   "metadata": {},
   "outputs": [],
   "source": []
  }
 ],
 "metadata": {
  "kernelspec": {
   "display_name": "Python 3 (ipykernel)",
   "language": "python",
   "name": "python3"
  },
  "language_info": {
   "codemirror_mode": {
    "name": "ipython",
    "version": 3
   },
   "file_extension": ".py",
   "mimetype": "text/x-python",
   "name": "python",
   "nbconvert_exporter": "python",
   "pygments_lexer": "ipython3",
   "version": "3.8.15"
  }
 },
 "nbformat": 4,
 "nbformat_minor": 5
}
