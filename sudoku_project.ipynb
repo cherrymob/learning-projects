{
 "cells": [
  {
   "cell_type": "markdown",
   "id": "064c2ec2-d2ed-43ac-8d22-dd9ef83e70e6",
   "metadata": {},
   "source": [
    "# Project : Sudoku Game!\n",
    "In this Jupyter Notebook, I made a program for playing a classic game of Sudoku. The program utilizes a combination of user input and algorithmic calculations to allow players to fill in the cells of a 9x9 grid with numbers in such a way that each row, column, and 3x3 subgrid contains all of the digits from 1 to 9. The program features an intuitive interface, error checking to prevent incorrect moves, and a solution verification process to ensure that the final grid is a valid solution to the puzzle."
   ]
  },
  {
   "cell_type": "code",
   "execution_count": 1,
   "id": "4301b7dc-f291-4561-a188-20bd0cff2549",
   "metadata": {},
   "outputs": [],
   "source": [
    "def print_board(board):\n",
    "    \"\"\"\n",
    "    This function takes in a 2D list representing the current state of the sudoku board\n",
    "    and prints it in a formatted manner.\n",
    "    \"\"\"\n",
    "    for i in range(len(board)):\n",
    "        if i % 3 == 0 and i != 0:\n",
    "            print(\"- - - - - - - - - - - - -\")\n",
    "        for j in range(len(board[0])):\n",
    "            if j % 3 == 0 and j != 0:\n",
    "                print(\" | \", end=\"\")\n",
    "            if j == 8:\n",
    "                print(board[i][j])\n",
    "            else:\n",
    "                print(str(board[i][j]) + \" \", end=\"\")\n"
   ]
  },
  {
   "cell_type": "code",
   "execution_count": 2,
   "id": "f1d9fcaa-3461-42c3-aea1-31eb17f21cfc",
   "metadata": {},
   "outputs": [],
   "source": [
    "def is_valid(board, num, pos):\n",
    "    \"\"\"\n",
    "    This function takes in the current state of the board, a number, and a position\n",
    "    and returns True if the number is valid in the given position, and False otherwise.\n",
    "    \"\"\"\n",
    "    # Check row\n",
    "    for i in range(len(board[0])):\n",
    "        if board[pos[0]][i] == num and pos[1] != i:\n",
    "            return False\n",
    "    # Check column\n",
    "    for i in range(len(board)):\n",
    "        if board[i][pos[1]] == num and pos[0] != i:\n",
    "            return False\n",
    "    # Check 3x3 box\n",
    "    box_x = pos[1] // 3\n",
    "    box_y = pos[0] // 3\n",
    "    for i in range(box_y*3, box_y*3 + 3):\n",
    "        for j in range(box_x * 3, box_x*3 + 3):\n",
    "            if board[i][j] == num and (i,j) != pos:\n",
    "                return False\n",
    "    return True"
   ]
  },
  {
   "cell_type": "code",
   "execution_count": 3,
   "id": "a12fe16b-5863-4e78-a31e-e3ba91f8cf40",
   "metadata": {},
   "outputs": [],
   "source": [
    "def solve(board):\n",
    "    \"\"\"\n",
    "    This is the main solve function that takes in a partially filled 2D list representing the board\n",
    "    and returns a fully filled board.\n",
    "    \"\"\"\n",
    "    find = find_empty(board)\n",
    "    if not find:\n",
    "        return True\n",
    "    else:\n",
    "        row, col = find\n",
    "    for i in range(1,10):\n",
    "        if is_valid(board, i, (row, col)):\n",
    "            board[row][col] = i\n",
    "            if solve(board):\n",
    "                return True\n",
    "            board[row][col] = 0\n",
    "    return False"
   ]
  },
  {
   "cell_type": "code",
   "execution_count": 4,
   "id": "0094d576-a4dd-48ad-9d56-430871b1a257",
   "metadata": {},
   "outputs": [],
   "source": [
    "def find_empty(board):\n",
    "    \"\"\"\n",
    "    This function takes in a 2D list representing the board and returns the position\n",
    "    of the next empty cell (represented as (row, col)).\n",
    "    \"\"\"\n",
    "    for i in range(len(board)):\n",
    "        for j in range(len(board[0])):\n",
    "            if board[i][j] == 0:\n",
    "                return (i, j)\n",
    "    return None"
   ]
  },
  {
   "cell_type": "code",
   "execution_count": 7,
   "id": "c00ca72d-90ec-4ae8-ad85-71f23d95fb01",
   "metadata": {},
   "outputs": [],
   "source": [
    "def play_game():\n",
    "    \"\"\"\n",
    "    This is the main function to run the game.\n",
    "    It sets up the board, takes user input, and prints the updated board after each move.\n",
    "    \"\"\"\n",
    "    board = [\n",
    "    [7,8,0,4,0,0,1,2,0],\n",
    "    [6,0,0,0,7,5,0,0,9],\n",
    "    [0,0,0,6,0,1,0,7,8],\n",
    "    [0,0,7,0,4,0,2,6,0],\n",
    "    [0,0,1,0,5,0,9,3,0],\n",
    "    [9,0,4,0,6,0,0,0,5],\n",
    "    [0,7,0,3,0,0,0,1,2],\n",
    "    [1,2,0,0,0,7,4,0,0],\n",
    "    [0,4,9,2,0,6,0,0,7]\n",
    "]"
   ]
  },
  {
   "cell_type": "code",
   "execution_count": 8,
   "id": "ff54b0b9-bbb0-462b-9cc9-2578c3f70b9a",
   "metadata": {},
   "outputs": [],
   "source": [
    "def main():\n",
    "    \"\"\"\n",
    "    The main function that runs the game.\n",
    "    It asks the user if they want to play sudoku and starts the game if they choose to.\n",
    "    \"\"\"\n",
    "    play = input(\"Do you want to play Sudoku? (yes/no) \")\n",
    "    if play.lower() == \"yes\":\n",
    "        play_game()\n",
    "    else:\n",
    "        print(\"Okay, have a great day!\")\n",
    "\n",
    "def start_game():\n",
    "    \"\"\"\n",
    "    A function that starts the game by calling the main function.\n",
    "    \"\"\"\n",
    "    main()\n"
   ]
  },
  {
   "cell_type": "code",
   "execution_count": null,
   "id": "5a30175f-417f-4b4c-9831-029e1e7e9702",
   "metadata": {},
   "outputs": [],
   "source": []
  }
 ],
 "metadata": {
  "kernelspec": {
   "display_name": "Python 3 (ipykernel)",
   "language": "python",
   "name": "python3"
  },
  "language_info": {
   "codemirror_mode": {
    "name": "ipython",
    "version": 3
   },
   "file_extension": ".py",
   "mimetype": "text/x-python",
   "name": "python",
   "nbconvert_exporter": "python",
   "pygments_lexer": "ipython3",
   "version": "3.8.15"
  }
 },
 "nbformat": 4,
 "nbformat_minor": 5
}
